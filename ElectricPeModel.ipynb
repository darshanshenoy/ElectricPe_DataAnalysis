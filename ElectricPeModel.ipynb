{
  "nbformat": 4,
  "nbformat_minor": 0,
  "metadata": {
    "colab": {
      "provenance": []
    },
    "kernelspec": {
      "name": "python3",
      "display_name": "Python 3"
    },
    "language_info": {
      "name": "python"
    }
  },
  "cells": [
    {
      "cell_type": "code",
      "execution_count": null,
      "metadata": {
        "id": "HQHhWAiJul8i"
      },
      "outputs": [],
      "source": [
        "#importing all necessary libraries\n",
        "import numpy as np\n",
        "import pandas as pd\n",
        "import matplotlib.pyplot as plt\n",
        "from sklearn import preprocessing\n",
        "import sklearn\n",
        "from sklearn.model_selection import train_test_split, cross_val_score\n",
        "from sklearn.model_selection import train_test_split,GridSearchCV\n",
        "from sklearn.ensemble import RandomForestClassifier\n",
        "from sklearn.metrics import accuracy_score, confusion_matrix\n",
        "from sklearn.metrics import classification_report\n",
        "from sklearn import metrics\n",
        "from sklearn import svm"
      ]
    },
    {
      "cell_type": "code",
      "source": [
        "#importing the dataset into the notebook.\n",
        "file_path = '/content/AssignmentData _ ElectricPe.xlsx'\n",
        "df = pd.read_excel(file_path)"
      ],
      "metadata": {
        "id": "NkW_7W1QvCx0"
      },
      "execution_count": null,
      "outputs": []
    },
    {
      "cell_type": "code",
      "source": [
        "#dropping all rows with NULL values\n",
        "df.dropna(inplace=True)"
      ],
      "metadata": {
        "id": "k1TpmcHdvHov"
      },
      "execution_count": null,
      "outputs": []
    },
    {
      "cell_type": "code",
      "source": [
        "#overview of dataset.\n",
        "df.describe()"
      ],
      "metadata": {
        "colab": {
          "base_uri": "https://localhost:8080/",
          "height": 300
        },
        "id": "Y0AIl_FFvNb5",
        "outputId": "5fa29ff5-522b-4e33-cde2-dc3d0e399c50"
      },
      "execution_count": null,
      "outputs": [
        {
          "output_type": "execute_result",
          "data": {
            "text/plain": [
              "             hour17        hour18        hour19        hour20        hour21  \\\n",
              "count  18775.000000  18775.000000  18775.000000  18775.000000  18775.000000   \n",
              "mean       0.814221      0.816192      0.815659      0.816138      0.815712   \n",
              "std        0.388939      0.387338      0.387772      0.387382      0.387729   \n",
              "min        0.000000      0.000000      0.000000      0.000000      0.000000   \n",
              "25%        1.000000      1.000000      1.000000      1.000000      1.000000   \n",
              "50%        1.000000      1.000000      1.000000      1.000000      1.000000   \n",
              "75%        1.000000      1.000000      1.000000      1.000000      1.000000   \n",
              "max        1.000000      1.000000      1.000000      1.000000      1.000000   \n",
              "\n",
              "             hour22        hour23  \n",
              "count  18775.000000  18775.000000  \n",
              "mean       0.814913      0.811771  \n",
              "std        0.388378      0.390905  \n",
              "min        0.000000      0.000000  \n",
              "25%        1.000000      1.000000  \n",
              "50%        1.000000      1.000000  \n",
              "75%        1.000000      1.000000  \n",
              "max        1.000000      1.000000  "
            ],
            "text/html": [
              "\n",
              "  <div id=\"df-2259c419-d221-4e8f-94c5-2c8e5fc0ac77\" class=\"colab-df-container\">\n",
              "    <div>\n",
              "<style scoped>\n",
              "    .dataframe tbody tr th:only-of-type {\n",
              "        vertical-align: middle;\n",
              "    }\n",
              "\n",
              "    .dataframe tbody tr th {\n",
              "        vertical-align: top;\n",
              "    }\n",
              "\n",
              "    .dataframe thead th {\n",
              "        text-align: right;\n",
              "    }\n",
              "</style>\n",
              "<table border=\"1\" class=\"dataframe\">\n",
              "  <thead>\n",
              "    <tr style=\"text-align: right;\">\n",
              "      <th></th>\n",
              "      <th>hour17</th>\n",
              "      <th>hour18</th>\n",
              "      <th>hour19</th>\n",
              "      <th>hour20</th>\n",
              "      <th>hour21</th>\n",
              "      <th>hour22</th>\n",
              "      <th>hour23</th>\n",
              "    </tr>\n",
              "  </thead>\n",
              "  <tbody>\n",
              "    <tr>\n",
              "      <th>count</th>\n",
              "      <td>18775.000000</td>\n",
              "      <td>18775.000000</td>\n",
              "      <td>18775.000000</td>\n",
              "      <td>18775.000000</td>\n",
              "      <td>18775.000000</td>\n",
              "      <td>18775.000000</td>\n",
              "      <td>18775.000000</td>\n",
              "    </tr>\n",
              "    <tr>\n",
              "      <th>mean</th>\n",
              "      <td>0.814221</td>\n",
              "      <td>0.816192</td>\n",
              "      <td>0.815659</td>\n",
              "      <td>0.816138</td>\n",
              "      <td>0.815712</td>\n",
              "      <td>0.814913</td>\n",
              "      <td>0.811771</td>\n",
              "    </tr>\n",
              "    <tr>\n",
              "      <th>std</th>\n",
              "      <td>0.388939</td>\n",
              "      <td>0.387338</td>\n",
              "      <td>0.387772</td>\n",
              "      <td>0.387382</td>\n",
              "      <td>0.387729</td>\n",
              "      <td>0.388378</td>\n",
              "      <td>0.390905</td>\n",
              "    </tr>\n",
              "    <tr>\n",
              "      <th>min</th>\n",
              "      <td>0.000000</td>\n",
              "      <td>0.000000</td>\n",
              "      <td>0.000000</td>\n",
              "      <td>0.000000</td>\n",
              "      <td>0.000000</td>\n",
              "      <td>0.000000</td>\n",
              "      <td>0.000000</td>\n",
              "    </tr>\n",
              "    <tr>\n",
              "      <th>25%</th>\n",
              "      <td>1.000000</td>\n",
              "      <td>1.000000</td>\n",
              "      <td>1.000000</td>\n",
              "      <td>1.000000</td>\n",
              "      <td>1.000000</td>\n",
              "      <td>1.000000</td>\n",
              "      <td>1.000000</td>\n",
              "    </tr>\n",
              "    <tr>\n",
              "      <th>50%</th>\n",
              "      <td>1.000000</td>\n",
              "      <td>1.000000</td>\n",
              "      <td>1.000000</td>\n",
              "      <td>1.000000</td>\n",
              "      <td>1.000000</td>\n",
              "      <td>1.000000</td>\n",
              "      <td>1.000000</td>\n",
              "    </tr>\n",
              "    <tr>\n",
              "      <th>75%</th>\n",
              "      <td>1.000000</td>\n",
              "      <td>1.000000</td>\n",
              "      <td>1.000000</td>\n",
              "      <td>1.000000</td>\n",
              "      <td>1.000000</td>\n",
              "      <td>1.000000</td>\n",
              "      <td>1.000000</td>\n",
              "    </tr>\n",
              "    <tr>\n",
              "      <th>max</th>\n",
              "      <td>1.000000</td>\n",
              "      <td>1.000000</td>\n",
              "      <td>1.000000</td>\n",
              "      <td>1.000000</td>\n",
              "      <td>1.000000</td>\n",
              "      <td>1.000000</td>\n",
              "      <td>1.000000</td>\n",
              "    </tr>\n",
              "  </tbody>\n",
              "</table>\n",
              "</div>\n",
              "    <div class=\"colab-df-buttons\">\n",
              "\n",
              "  <div class=\"colab-df-container\">\n",
              "    <button class=\"colab-df-convert\" onclick=\"convertToInteractive('df-2259c419-d221-4e8f-94c5-2c8e5fc0ac77')\"\n",
              "            title=\"Convert this dataframe to an interactive table.\"\n",
              "            style=\"display:none;\">\n",
              "\n",
              "  <svg xmlns=\"http://www.w3.org/2000/svg\" height=\"24px\" viewBox=\"0 -960 960 960\">\n",
              "    <path d=\"M120-120v-720h720v720H120Zm60-500h600v-160H180v160Zm220 220h160v-160H400v160Zm0 220h160v-160H400v160ZM180-400h160v-160H180v160Zm440 0h160v-160H620v160ZM180-180h160v-160H180v160Zm440 0h160v-160H620v160Z\"/>\n",
              "  </svg>\n",
              "    </button>\n",
              "\n",
              "  <style>\n",
              "    .colab-df-container {\n",
              "      display:flex;\n",
              "      gap: 12px;\n",
              "    }\n",
              "\n",
              "    .colab-df-convert {\n",
              "      background-color: #E8F0FE;\n",
              "      border: none;\n",
              "      border-radius: 50%;\n",
              "      cursor: pointer;\n",
              "      display: none;\n",
              "      fill: #1967D2;\n",
              "      height: 32px;\n",
              "      padding: 0 0 0 0;\n",
              "      width: 32px;\n",
              "    }\n",
              "\n",
              "    .colab-df-convert:hover {\n",
              "      background-color: #E2EBFA;\n",
              "      box-shadow: 0px 1px 2px rgba(60, 64, 67, 0.3), 0px 1px 3px 1px rgba(60, 64, 67, 0.15);\n",
              "      fill: #174EA6;\n",
              "    }\n",
              "\n",
              "    .colab-df-buttons div {\n",
              "      margin-bottom: 4px;\n",
              "    }\n",
              "\n",
              "    [theme=dark] .colab-df-convert {\n",
              "      background-color: #3B4455;\n",
              "      fill: #D2E3FC;\n",
              "    }\n",
              "\n",
              "    [theme=dark] .colab-df-convert:hover {\n",
              "      background-color: #434B5C;\n",
              "      box-shadow: 0px 1px 3px 1px rgba(0, 0, 0, 0.15);\n",
              "      filter: drop-shadow(0px 1px 2px rgba(0, 0, 0, 0.3));\n",
              "      fill: #FFFFFF;\n",
              "    }\n",
              "  </style>\n",
              "\n",
              "    <script>\n",
              "      const buttonEl =\n",
              "        document.querySelector('#df-2259c419-d221-4e8f-94c5-2c8e5fc0ac77 button.colab-df-convert');\n",
              "      buttonEl.style.display =\n",
              "        google.colab.kernel.accessAllowed ? 'block' : 'none';\n",
              "\n",
              "      async function convertToInteractive(key) {\n",
              "        const element = document.querySelector('#df-2259c419-d221-4e8f-94c5-2c8e5fc0ac77');\n",
              "        const dataTable =\n",
              "          await google.colab.kernel.invokeFunction('convertToInteractive',\n",
              "                                                    [key], {});\n",
              "        if (!dataTable) return;\n",
              "\n",
              "        const docLinkHtml = 'Like what you see? Visit the ' +\n",
              "          '<a target=\"_blank\" href=https://colab.research.google.com/notebooks/data_table.ipynb>data table notebook</a>'\n",
              "          + ' to learn more about interactive tables.';\n",
              "        element.innerHTML = '';\n",
              "        dataTable['output_type'] = 'display_data';\n",
              "        await google.colab.output.renderOutput(dataTable, element);\n",
              "        const docLink = document.createElement('div');\n",
              "        docLink.innerHTML = docLinkHtml;\n",
              "        element.appendChild(docLink);\n",
              "      }\n",
              "    </script>\n",
              "  </div>\n",
              "\n",
              "\n",
              "<div id=\"df-ff09675a-41e0-407f-87e3-9b7ef554b8df\">\n",
              "  <button class=\"colab-df-quickchart\" onclick=\"quickchart('df-ff09675a-41e0-407f-87e3-9b7ef554b8df')\"\n",
              "            title=\"Suggest charts\"\n",
              "            style=\"display:none;\">\n",
              "\n",
              "<svg xmlns=\"http://www.w3.org/2000/svg\" height=\"24px\"viewBox=\"0 0 24 24\"\n",
              "     width=\"24px\">\n",
              "    <g>\n",
              "        <path d=\"M19 3H5c-1.1 0-2 .9-2 2v14c0 1.1.9 2 2 2h14c1.1 0 2-.9 2-2V5c0-1.1-.9-2-2-2zM9 17H7v-7h2v7zm4 0h-2V7h2v10zm4 0h-2v-4h2v4z\"/>\n",
              "    </g>\n",
              "</svg>\n",
              "  </button>\n",
              "\n",
              "<style>\n",
              "  .colab-df-quickchart {\n",
              "      --bg-color: #E8F0FE;\n",
              "      --fill-color: #1967D2;\n",
              "      --hover-bg-color: #E2EBFA;\n",
              "      --hover-fill-color: #174EA6;\n",
              "      --disabled-fill-color: #AAA;\n",
              "      --disabled-bg-color: #DDD;\n",
              "  }\n",
              "\n",
              "  [theme=dark] .colab-df-quickchart {\n",
              "      --bg-color: #3B4455;\n",
              "      --fill-color: #D2E3FC;\n",
              "      --hover-bg-color: #434B5C;\n",
              "      --hover-fill-color: #FFFFFF;\n",
              "      --disabled-bg-color: #3B4455;\n",
              "      --disabled-fill-color: #666;\n",
              "  }\n",
              "\n",
              "  .colab-df-quickchart {\n",
              "    background-color: var(--bg-color);\n",
              "    border: none;\n",
              "    border-radius: 50%;\n",
              "    cursor: pointer;\n",
              "    display: none;\n",
              "    fill: var(--fill-color);\n",
              "    height: 32px;\n",
              "    padding: 0;\n",
              "    width: 32px;\n",
              "  }\n",
              "\n",
              "  .colab-df-quickchart:hover {\n",
              "    background-color: var(--hover-bg-color);\n",
              "    box-shadow: 0 1px 2px rgba(60, 64, 67, 0.3), 0 1px 3px 1px rgba(60, 64, 67, 0.15);\n",
              "    fill: var(--button-hover-fill-color);\n",
              "  }\n",
              "\n",
              "  .colab-df-quickchart-complete:disabled,\n",
              "  .colab-df-quickchart-complete:disabled:hover {\n",
              "    background-color: var(--disabled-bg-color);\n",
              "    fill: var(--disabled-fill-color);\n",
              "    box-shadow: none;\n",
              "  }\n",
              "\n",
              "  .colab-df-spinner {\n",
              "    border: 2px solid var(--fill-color);\n",
              "    border-color: transparent;\n",
              "    border-bottom-color: var(--fill-color);\n",
              "    animation:\n",
              "      spin 1s steps(1) infinite;\n",
              "  }\n",
              "\n",
              "  @keyframes spin {\n",
              "    0% {\n",
              "      border-color: transparent;\n",
              "      border-bottom-color: var(--fill-color);\n",
              "      border-left-color: var(--fill-color);\n",
              "    }\n",
              "    20% {\n",
              "      border-color: transparent;\n",
              "      border-left-color: var(--fill-color);\n",
              "      border-top-color: var(--fill-color);\n",
              "    }\n",
              "    30% {\n",
              "      border-color: transparent;\n",
              "      border-left-color: var(--fill-color);\n",
              "      border-top-color: var(--fill-color);\n",
              "      border-right-color: var(--fill-color);\n",
              "    }\n",
              "    40% {\n",
              "      border-color: transparent;\n",
              "      border-right-color: var(--fill-color);\n",
              "      border-top-color: var(--fill-color);\n",
              "    }\n",
              "    60% {\n",
              "      border-color: transparent;\n",
              "      border-right-color: var(--fill-color);\n",
              "    }\n",
              "    80% {\n",
              "      border-color: transparent;\n",
              "      border-right-color: var(--fill-color);\n",
              "      border-bottom-color: var(--fill-color);\n",
              "    }\n",
              "    90% {\n",
              "      border-color: transparent;\n",
              "      border-bottom-color: var(--fill-color);\n",
              "    }\n",
              "  }\n",
              "</style>\n",
              "\n",
              "  <script>\n",
              "    async function quickchart(key) {\n",
              "      const quickchartButtonEl =\n",
              "        document.querySelector('#' + key + ' button');\n",
              "      quickchartButtonEl.disabled = true;  // To prevent multiple clicks.\n",
              "      quickchartButtonEl.classList.add('colab-df-spinner');\n",
              "      try {\n",
              "        const charts = await google.colab.kernel.invokeFunction(\n",
              "            'suggestCharts', [key], {});\n",
              "      } catch (error) {\n",
              "        console.error('Error during call to suggestCharts:', error);\n",
              "      }\n",
              "      quickchartButtonEl.classList.remove('colab-df-spinner');\n",
              "      quickchartButtonEl.classList.add('colab-df-quickchart-complete');\n",
              "    }\n",
              "    (() => {\n",
              "      let quickchartButtonEl =\n",
              "        document.querySelector('#df-ff09675a-41e0-407f-87e3-9b7ef554b8df button');\n",
              "      quickchartButtonEl.style.display =\n",
              "        google.colab.kernel.accessAllowed ? 'block' : 'none';\n",
              "    })();\n",
              "  </script>\n",
              "</div>\n",
              "    </div>\n",
              "  </div>\n"
            ]
          },
          "metadata": {},
          "execution_count": 4
        }
      ]
    },
    {
      "cell_type": "code",
      "source": [
        "#feature vector for model training\n",
        "features=df[['Station_Name','Station_Category','Station_Access']]"
      ],
      "metadata": {
        "id": "QZgQOm8FvNYi"
      },
      "execution_count": null,
      "outputs": []
    },
    {
      "cell_type": "code",
      "source": [
        "#label encoding for feature vector.\n",
        "label_encoder=preprocessing.LabelEncoder()\n",
        "features['Station_Category']=label_encoder.fit_transform(features['Station_Category'])\n",
        "\n",
        "features['Station_Access']=label_encoder.fit_transform(features['Station_Access'])\n",
        "\n",
        "features['Station_Name']=label_encoder.fit_transform(features['Station_Name'])"
      ],
      "metadata": {
        "colab": {
          "base_uri": "https://localhost:8080/"
        },
        "id": "TmJOXsLOvNVp",
        "outputId": "a97b9f74-174b-4124-c150-b6663e2306be"
      },
      "execution_count": null,
      "outputs": [
        {
          "output_type": "stream",
          "name": "stderr",
          "text": [
            "<ipython-input-6-97624cfc5d5b>:2: SettingWithCopyWarning: \n",
            "A value is trying to be set on a copy of a slice from a DataFrame.\n",
            "Try using .loc[row_indexer,col_indexer] = value instead\n",
            "\n",
            "See the caveats in the documentation: https://pandas.pydata.org/pandas-docs/stable/user_guide/indexing.html#returning-a-view-versus-a-copy\n",
            "  features['Station_Category']=label_encoder.fit_transform(features['Station_Category'])\n",
            "<ipython-input-6-97624cfc5d5b>:4: SettingWithCopyWarning: \n",
            "A value is trying to be set on a copy of a slice from a DataFrame.\n",
            "Try using .loc[row_indexer,col_indexer] = value instead\n",
            "\n",
            "See the caveats in the documentation: https://pandas.pydata.org/pandas-docs/stable/user_guide/indexing.html#returning-a-view-versus-a-copy\n",
            "  features['Station_Access']=label_encoder.fit_transform(features['Station_Access'])\n",
            "<ipython-input-6-97624cfc5d5b>:6: SettingWithCopyWarning: \n",
            "A value is trying to be set on a copy of a slice from a DataFrame.\n",
            "Try using .loc[row_indexer,col_indexer] = value instead\n",
            "\n",
            "See the caveats in the documentation: https://pandas.pydata.org/pandas-docs/stable/user_guide/indexing.html#returning-a-view-versus-a-copy\n",
            "  features['Station_Name']=label_encoder.fit_transform(features['Station_Name'])\n"
          ]
        }
      ]
    },
    {
      "cell_type": "code",
      "source": [
        "#iterativly running SVM model for columns from hour0 to hour23 independently.\n",
        "for i in range(7,31):\n",
        "    # Add the target column\n",
        "    target = df.iloc[:,i]\n",
        "    #target values replaced with numerical values.\n",
        "    target = target.replace({True: 1, False: 0})\n",
        "\n",
        "    x_train, x_test, y_train, y_test = train_test_split(features, target, test_size=0.2,random_state=42)  #test-train split in 80:20 ratio.\n",
        "\n",
        "    # Create the SVM classifier\n",
        "    clf = svm.SVC(kernel='rbf', C=1, random_state=0)  #gaussian kernel\n",
        "\n",
        "  # Train the model\n",
        "    clf.fit(x_train, y_train)\n",
        "\n",
        "    #model testing and computation of accuracy.\n",
        "    y_predicted= clf.predict(x_test)\n",
        "    print(f'Validation Accuracy of {df.columns[i]}: {accuracy_score(y_test, y_predicted)*100:.2f} %')"
      ],
      "metadata": {
        "colab": {
          "base_uri": "https://localhost:8080/"
        },
        "id": "uLPgNKta5lWs",
        "outputId": "8f6bc136-5823-4d1b-a7aa-6d6737f1dbc1"
      },
      "execution_count": null,
      "outputs": [
        {
          "output_type": "stream",
          "name": "stdout",
          "text": [
            "Validation Accuracy of hour0: 80.00 %\n",
            "Validation Accuracy of hour1: 80.21 %\n",
            "Validation Accuracy of hour2: 80.03 %\n",
            "Validation Accuracy of hour3: 79.95 %\n",
            "Validation Accuracy of hour4: 79.92 %\n",
            "Validation Accuracy of hour5: 80.00 %\n",
            "Validation Accuracy of hour6: 79.97 %\n",
            "Validation Accuracy of hour7: 78.67 %\n",
            "Validation Accuracy of hour8: 78.59 %\n",
            "Validation Accuracy of hour9: 78.56 %\n",
            "Validation Accuracy of hour10: 78.46 %\n",
            "Validation Accuracy of hour11: 78.54 %\n",
            "Validation Accuracy of hour12: 78.75 %\n",
            "Validation Accuracy of hour13: 78.54 %\n",
            "Validation Accuracy of hour14: 78.43 %\n",
            "Validation Accuracy of hour15: 78.24 %\n",
            "Validation Accuracy of hour16: 78.56 %\n",
            "Validation Accuracy of hour17: 80.16 %\n",
            "Validation Accuracy of hour18: 80.37 %\n",
            "Validation Accuracy of hour19: 80.51 %\n",
            "Validation Accuracy of hour20: 80.45 %\n",
            "Validation Accuracy of hour21: 80.27 %\n",
            "Validation Accuracy of hour22: 80.43 %\n",
            "Validation Accuracy of hour23: 80.19 %\n"
          ]
        }
      ]
    },
    {
      "cell_type": "code",
      "source": [
        "for i in range(7,31):\n",
        "    # Add the target column\n",
        "    target = df.iloc[:,i]\n",
        "\n",
        "    target = target.replace({True: 1, False: 0})\n",
        "\n",
        "    x_train, x_test, y_train, y_test = train_test_split(features, target, test_size=0.2,random_state=42)\n",
        "\n",
        "    # Create the Random Forest Classifier\n",
        "    clf = RandomForestClassifier(n_estimators=100, random_state=0)\n",
        "    clf.fit(x_train, y_train)\n",
        "\n",
        "    # Predict the class for a new sample\n",
        "    y_predicted= clf.predict(x_test)\n",
        "    print(f'Validation Accuracy of {df.columns[i]}: {accuracy_score(y_test, y_predicted)*100:.2f} %')"
      ],
      "metadata": {
        "colab": {
          "base_uri": "https://localhost:8080/"
        },
        "id": "ZIwciDsSvNS4",
        "outputId": "c3665d80-0d43-49bd-b0c0-e769b1cbaedf"
      },
      "execution_count": null,
      "outputs": [
        {
          "output_type": "stream",
          "name": "stdout",
          "text": [
            "Validation Accuracy of hour0: 92.01 %\n",
            "Validation Accuracy of hour1: 92.04 %\n",
            "Validation Accuracy of hour2: 91.90 %\n",
            "Validation Accuracy of hour3: 92.04 %\n",
            "Validation Accuracy of hour4: 92.06 %\n",
            "Validation Accuracy of hour5: 91.85 %\n",
            "Validation Accuracy of hour6: 91.82 %\n",
            "Validation Accuracy of hour7: 91.29 %\n",
            "Validation Accuracy of hour8: 91.19 %\n",
            "Validation Accuracy of hour9: 90.97 %\n",
            "Validation Accuracy of hour10: 91.00 %\n",
            "Validation Accuracy of hour11: 91.16 %\n",
            "Validation Accuracy of hour12: 91.26 %\n",
            "Validation Accuracy of hour13: 90.89 %\n",
            "Validation Accuracy of hour14: 90.89 %\n",
            "Validation Accuracy of hour15: 90.76 %\n",
            "Validation Accuracy of hour16: 90.95 %\n",
            "Validation Accuracy of hour17: 91.58 %\n",
            "Validation Accuracy of hour18: 91.56 %\n",
            "Validation Accuracy of hour19: 91.64 %\n",
            "Validation Accuracy of hour20: 91.80 %\n",
            "Validation Accuracy of hour21: 91.88 %\n",
            "Validation Accuracy of hour22: 91.72 %\n",
            "Validation Accuracy of hour23: 91.77 %\n"
          ]
        }
      ]
    },
    {
      "cell_type": "code",
      "source": [
        "# Plot the feature importances\n",
        "importances = clf.feature_importances_\n",
        "\n",
        "plt.bar(features.columns, importances)\n",
        "plt.xlabel('Features')\n",
        "plt.ylabel('Importance')\n",
        "plt.title('Feature Importance of the Random Forest')\n",
        "plt.show()"
      ],
      "metadata": {
        "colab": {
          "base_uri": "https://localhost:8080/",
          "height": 472
        },
        "id": "p7lLJ_IivNQE",
        "outputId": "27ee938f-dfc0-416a-c224-355179f4d17d"
      },
      "execution_count": null,
      "outputs": [
        {
          "output_type": "display_data",
          "data": {
            "text/plain": [
              "<Figure size 640x480 with 1 Axes>"
            ],
            "image/png": "[encoded data removed]"
          },
          "metadata": {}
        }
      ]
    },
    {
      "cell_type": "code",
      "source": [
        "#classification report\n",
        "print(classification_report(y_test,y_predicted))"
      ],
      "metadata": {
        "colab": {
          "base_uri": "https://localhost:8080/"
        },
        "id": "cdvt6W7xvNND",
        "outputId": "d2677137-2a9c-4001-d53e-8e2351088555"
      },
      "execution_count": null,
      "outputs": [
        {
          "output_type": "stream",
          "name": "stdout",
          "text": [
            "              precision    recall  f1-score   support\n",
            "\n",
            "         0.0       0.87      0.69      0.77       744\n",
            "         1.0       0.93      0.97      0.95      3011\n",
            "\n",
            "    accuracy                           0.92      3755\n",
            "   macro avg       0.90      0.83      0.86      3755\n",
            "weighted avg       0.92      0.92      0.91      3755\n",
            "\n"
          ]
        }
      ]
    },
    {
      "cell_type": "code",
      "source": [
        "#confusion matrix\n",
        "confusion_matrix = metrics.confusion_matrix(y_test,y_predicted)\n",
        "cm_display = metrics.ConfusionMatrixDisplay(confusion_matrix = confusion_matrix)\n",
        "cm_display.plot()\n",
        "plt.show()"
      ],
      "metadata": {
        "colab": {
          "base_uri": "https://localhost:8080/",
          "height": 449
        },
        "id": "JFZsSLOKvNKJ",
        "outputId": "ad419f19-c04a-4f01-ba3c-a96e6fa018c4"
      },
      "execution_count": null,
      "outputs": [
        {
          "output_type": "display_data",
          "data": {
            "text/plain": [
              "<Figure size 640x480 with 2 Axes>"
            ],
            "image/png": "[encoded data removed]"
          },
          "metadata": {}
        }
      ]
    },
    {
      "cell_type": "markdown",
      "source": [
        "## Accuracy was obtained in the range 90% - 92% for different hours of the day using Random Forest Algorithm."
      ],
      "metadata": {
        "id": "UfxKe9Ot2VJQ"
      }
    }
  ]
}